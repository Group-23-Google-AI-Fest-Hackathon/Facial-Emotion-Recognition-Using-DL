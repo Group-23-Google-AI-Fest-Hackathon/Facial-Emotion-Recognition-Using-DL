{
 "cells": [
  {
   "cell_type": "code",
   "execution_count": 11,
   "id": "3312ad05",
   "metadata": {},
   "outputs": [],
   "source": [
    "from tensorflow.keras.applications import VGG16\n",
    "from tensorflow.keras.models import Model\n",
    "import os\n",
    "from tensorflow.keras.models import load_model\n",
    "from tensorflow.keras.layers import Dense, GlobalAveragePooling2D"
   ]
  },
  {
   "cell_type": "code",
   "execution_count": 13,
   "id": "0824876b",
   "metadata": {},
   "outputs": [
    {
     "name": "stdout",
     "output_type": "stream",
     "text": [
      "Found 22968 images belonging to 7 classes.\n",
      "Found 1432 images belonging to 7 classes.\n"
     ]
    }
   ],
   "source": [
    "from tensorflow.keras.preprocessing.image import ImageDataGenerator\n",
    "\n",
    "datagen = ImageDataGenerator(\n",
    "    rescale=1.0/255.0,  # Scale pixel values to the range [0, 1]\n",
    "    rotation_range=15,  # Randomly rotate images by up to 15 degrees\n",
    "    width_shift_range=0.1,  # Randomly shift the width of images\n",
    "    height_shift_range=0.1,  # Randomly shift the height of images\n",
    "    horizontal_flip=True,  # Randomly flip images horizontally\n",
    "    validation_split=0.2  # Split data into training and validation sets\n",
    ")\n",
    "\n",
    "batch_size = 20  # Adjust as needed\n",
    "\n",
    "#path_t-_your dataset\n",
    "train_path = os.path.abspath('Face_emotions/train')\n",
    "test_path = os.path.abspath('Face_emotions/test')\n",
    "\n",
    "\n",
    "train_generator = datagen.flow_from_directory(\n",
    "    train_path,\n",
    "    target_size=(224, 224),  # Specify the desired input size\n",
    "    batch_size=batch_size,\n",
    "    class_mode='categorical',\n",
    "    subset='training'  # Use this for training data\n",
    ")\n",
    "\n",
    "validation_generator = datagen.flow_from_directory(\n",
    "    test_path,\n",
    "    target_size=(224, 224),  # Specify the desired input size\n",
    "    batch_size=batch_size,\n",
    "    class_mode='categorical',\n",
    "    subset='validation'  # Use this for validation data\n",
    ")\n"
   ]
  },
  {
   "cell_type": "code",
   "execution_count": 14,
   "id": "42597fe2",
   "metadata": {},
   "outputs": [],
   "source": [
    "model = load_model('best_model.h5')\n",
    "\n",
    "model.compile(optimizer='adam',\n",
    "              loss='categorical_crossentropy',\n",
    "              metrics=['accuracy'])"
   ]
  },
  {
   "cell_type": "code",
   "execution_count": 17,
   "id": "811c4503",
   "metadata": {},
   "outputs": [
    {
     "name": "stdout",
     "output_type": "stream",
     "text": [
      "Epoch 1/3\n",
      "1149/1149 [==============================] - 853s 742ms/step - loss: 11.5543 - accuracy: 0.4738 - val_loss: 12.6878 - val_accuracy: 0.4623\n",
      "Epoch 2/3\n",
      "1149/1149 [==============================] - 987s 859ms/step - loss: 11.4813 - accuracy: 0.4942 - val_loss: 12.7499 - val_accuracy: 0.4511\n",
      "Epoch 3/3\n",
      "1149/1149 [==============================] - 585s 509ms/step - loss: 12.1084 - accuracy: 0.4988 - val_loss: 20.1662 - val_accuracy: 0.3520\n"
     ]
    },
    {
     "data": {
      "text/plain": [
       "<keras.src.callbacks.History at 0x1ad655d49d0>"
      ]
     },
     "execution_count": 17,
     "metadata": {},
     "output_type": "execute_result"
    }
   ],
   "source": [
    "epochs = 3  # Adjust as needed\n",
    "\n",
    "model.fit(\n",
    "    x=train_generator,\n",
    "    epochs=epochs,\n",
    "    validation_data=validation_generator,\n",
    "    batch_size=batch_size\n",
    ")\n"
   ]
  },
  {
   "cell_type": "code",
   "execution_count": 18,
   "id": "e92291ec",
   "metadata": {},
   "outputs": [
    {
     "name": "stderr",
     "output_type": "stream",
     "text": [
      "C:\\Users\\LENOVO\\anaconda3\\lib\\site-packages\\keras\\src\\engine\\training.py:3000: UserWarning: You are saving your model as an HDF5 file via `model.save()`. This file format is considered legacy. We recommend using instead the native Keras format, e.g. `model.save('my_model.keras')`.\n",
      "  saving_api.save_model(\n"
     ]
    }
   ],
   "source": [
    "model.save('Facial_Recognition_fine_tuned.h5')"
   ]
  },
  {
   "cell_type": "code",
   "execution_count": null,
   "id": "17942c1c",
   "metadata": {},
   "outputs": [],
   "source": []
  }
 ],
 "metadata": {
  "kernelspec": {
   "display_name": "Python 3 (ipykernel)",
   "language": "python",
   "name": "python3"
  },
  "language_info": {
   "codemirror_mode": {
    "name": "ipython",
    "version": 3
   },
   "file_extension": ".py",
   "mimetype": "text/x-python",
   "name": "python",
   "nbconvert_exporter": "python",
   "pygments_lexer": "ipython3",
   "version": "3.9.13"
  }
 },
 "nbformat": 4,
 "nbformat_minor": 5
}
